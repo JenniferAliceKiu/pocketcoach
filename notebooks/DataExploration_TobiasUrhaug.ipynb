{
 "cells": [
  {
   "cell_type": "code",
   "execution_count": 1,
   "id": "54647d55-76e4-4220-8262-66252dd8c677",
   "metadata": {
    "execution": {
     "iopub.execute_input": "2025-06-10T12:38:08.672756Z",
     "iopub.status.busy": "2025-06-10T12:38:08.672510Z",
     "iopub.status.idle": "2025-06-10T12:38:09.183598Z",
     "shell.execute_reply": "2025-06-10T12:38:09.183293Z",
     "shell.execute_reply.started": "2025-06-10T12:38:08.672730Z"
    }
   },
   "outputs": [],
   "source": [
    "import pandas as pd"
   ]
  },
  {
   "cell_type": "markdown",
   "id": "f3438a5e-98cc-4530-95d4-a610999077d8",
   "metadata": {},
   "source": [
    "# Data Exploration"
   ]
  },
  {
   "cell_type": "code",
   "execution_count": 2,
   "id": "6eeb33f6-f9f6-48bc-a22c-830f16561877",
   "metadata": {
    "execution": {
     "iopub.execute_input": "2025-06-10T12:38:11.246829Z",
     "iopub.status.busy": "2025-06-10T12:38:11.246340Z",
     "iopub.status.idle": "2025-06-10T12:38:11.284850Z",
     "shell.execute_reply": "2025-06-10T12:38:11.284419Z",
     "shell.execute_reply.started": "2025-06-10T12:38:11.246795Z"
    }
   },
   "outputs": [],
   "source": [
    "train_df = pd.read_csv('../raw_data/training.csv')\n",
    "test_df = pd.read_csv('../raw_data/test.csv')\n",
    "validation_df = pd.read_csv('../raw_data/validation.csv')"
   ]
  },
  {
   "cell_type": "code",
   "execution_count": 3,
   "id": "74d5c434-0157-488a-9d0b-e313fd644d56",
   "metadata": {
    "execution": {
     "iopub.execute_input": "2025-06-10T12:38:12.722237Z",
     "iopub.status.busy": "2025-06-10T12:38:12.721736Z",
     "iopub.status.idle": "2025-06-10T12:38:12.737222Z",
     "shell.execute_reply": "2025-06-10T12:38:12.736617Z",
     "shell.execute_reply.started": "2025-06-10T12:38:12.722182Z"
    }
   },
   "outputs": [
    {
     "data": {
      "text/html": [
       "<div>\n",
       "<style scoped>\n",
       "    .dataframe tbody tr th:only-of-type {\n",
       "        vertical-align: middle;\n",
       "    }\n",
       "\n",
       "    .dataframe tbody tr th {\n",
       "        vertical-align: top;\n",
       "    }\n",
       "\n",
       "    .dataframe thead th {\n",
       "        text-align: right;\n",
       "    }\n",
       "</style>\n",
       "<table border=\"1\" class=\"dataframe\">\n",
       "  <thead>\n",
       "    <tr style=\"text-align: right;\">\n",
       "      <th></th>\n",
       "      <th>text</th>\n",
       "      <th>label</th>\n",
       "    </tr>\n",
       "  </thead>\n",
       "  <tbody>\n",
       "    <tr>\n",
       "      <th>0</th>\n",
       "      <td>i didnt feel humiliated</td>\n",
       "      <td>0</td>\n",
       "    </tr>\n",
       "    <tr>\n",
       "      <th>1</th>\n",
       "      <td>i can go from feeling so hopeless to so damned...</td>\n",
       "      <td>0</td>\n",
       "    </tr>\n",
       "    <tr>\n",
       "      <th>2</th>\n",
       "      <td>im grabbing a minute to post i feel greedy wrong</td>\n",
       "      <td>3</td>\n",
       "    </tr>\n",
       "    <tr>\n",
       "      <th>3</th>\n",
       "      <td>i am ever feeling nostalgic about the fireplac...</td>\n",
       "      <td>2</td>\n",
       "    </tr>\n",
       "    <tr>\n",
       "      <th>4</th>\n",
       "      <td>i am feeling grouchy</td>\n",
       "      <td>3</td>\n",
       "    </tr>\n",
       "  </tbody>\n",
       "</table>\n",
       "</div>"
      ],
      "text/plain": [
       "                                                text  label\n",
       "0                            i didnt feel humiliated      0\n",
       "1  i can go from feeling so hopeless to so damned...      0\n",
       "2   im grabbing a minute to post i feel greedy wrong      3\n",
       "3  i am ever feeling nostalgic about the fireplac...      2\n",
       "4                               i am feeling grouchy      3"
      ]
     },
     "execution_count": 3,
     "metadata": {},
     "output_type": "execute_result"
    }
   ],
   "source": [
    "train_df.head()"
   ]
  },
  {
   "cell_type": "code",
   "execution_count": 4,
   "id": "b9cecd47-11d2-4575-b951-eb876db1c445",
   "metadata": {
    "execution": {
     "iopub.execute_input": "2025-06-10T12:38:13.535489Z",
     "iopub.status.busy": "2025-06-10T12:38:13.535081Z",
     "iopub.status.idle": "2025-06-10T12:38:13.545221Z",
     "shell.execute_reply": "2025-06-10T12:38:13.544594Z",
     "shell.execute_reply.started": "2025-06-10T12:38:13.535457Z"
    }
   },
   "outputs": [],
   "source": [
    "label_occurances = train_df.groupby('label').size().reset_index()\n",
    "label_occurances.columns = ['label', 'occurances'] "
   ]
  },
  {
   "cell_type": "code",
   "execution_count": 73,
   "id": "25034e5b-078d-40a3-8d1a-606f76a681fe",
   "metadata": {
    "execution": {
     "iopub.execute_input": "2025-06-10T14:30:23.341002Z",
     "iopub.status.busy": "2025-06-10T14:30:23.339860Z",
     "iopub.status.idle": "2025-06-10T14:30:23.349619Z",
     "shell.execute_reply": "2025-06-10T14:30:23.348875Z",
     "shell.execute_reply.started": "2025-06-10T14:30:23.340922Z"
    }
   },
   "outputs": [
    {
     "data": {
      "text/plain": [
       "array([0, 3, 2, 5, 4, 1])"
      ]
     },
     "execution_count": 73,
     "metadata": {},
     "output_type": "execute_result"
    }
   ],
   "source": [
    "train_df['label'].unique()"
   ]
  },
  {
   "cell_type": "code",
   "execution_count": 88,
   "id": "e22b1d4d-d7c7-473f-95c3-d7ed18fe326e",
   "metadata": {
    "execution": {
     "iopub.execute_input": "2025-06-10T15:54:13.534467Z",
     "iopub.status.busy": "2025-06-10T15:54:13.532265Z",
     "iopub.status.idle": "2025-06-10T15:54:13.543998Z",
     "shell.execute_reply": "2025-06-10T15:54:13.543051Z",
     "shell.execute_reply.started": "2025-06-10T15:54:13.534373Z"
    }
   },
   "outputs": [],
   "source": [
    "def category(id):\n",
    "    dict = {\n",
    "        0: 'sadness',\n",
    "        1: 'joy',\n",
    "        2: 'love', \n",
    "        3: 'anger',\n",
    "        4: 'fear',\n",
    "        5: 'surprised'\n",
    "    }\n",
    "\n",
    "    return dict.get(id, f'Invalid id {id}')"
   ]
  },
  {
   "cell_type": "markdown",
   "id": "6cd351e6-789d-4f86-a9d7-dc05a11b1f0e",
   "metadata": {},
   "source": [
    "## Data balance"
   ]
  },
  {
   "cell_type": "code",
   "execution_count": 90,
   "id": "aeae4583-953e-48bd-8c6b-a435f1e7817d",
   "metadata": {
    "execution": {
     "iopub.execute_input": "2025-06-10T15:54:26.701323Z",
     "iopub.status.busy": "2025-06-10T15:54:26.700952Z",
     "iopub.status.idle": "2025-06-10T15:54:26.715112Z",
     "shell.execute_reply": "2025-06-10T15:54:26.714387Z",
     "shell.execute_reply.started": "2025-06-10T15:54:26.701299Z"
    }
   },
   "outputs": [
    {
     "name": "stdout",
     "output_type": "stream",
     "text": [
      "   label  occurances  percentage    emotion\n",
      "0      0        4666       29.16    sadness\n",
      "1      1        5362       33.51        joy\n",
      "2      2        1304        8.15       love\n",
      "3      3        2159       13.49      anger\n",
      "4      4        1937       12.11       fear\n",
      "5      5         572        3.58  surprised\n"
     ]
    }
   ],
   "source": [
    "label_percentages_df = (\n",
    "    train_df['label']\n",
    "    .value_counts(normalize=True)\n",
    "    .mul(100)\n",
    "    .round(2)\n",
    "    .reset_index()\n",
    ")\n",
    "\n",
    "# Rename columns\n",
    "label_percentages_df.columns = ['label', 'percentage']\n",
    "\n",
    "full_stats = merged_df = pd.merge(label_occurances, label_percentages_df, on='label', how='inner')\n",
    "full_stats['emotion'] = full_stats['label'].apply(category)\n",
    "print(full_stats)"
   ]
  },
  {
   "cell_type": "markdown",
   "id": "a0143257-20fe-48cb-aebd-d435fb17f5b6",
   "metadata": {},
   "source": [
    "## Text insights"
   ]
  },
  {
   "cell_type": "code",
   "execution_count": 91,
   "id": "ffa40b21-6df4-4016-981d-5a8dca8755b0",
   "metadata": {
    "execution": {
     "iopub.execute_input": "2025-06-10T15:54:27.883645Z",
     "iopub.status.busy": "2025-06-10T15:54:27.883238Z",
     "iopub.status.idle": "2025-06-10T15:54:27.888903Z",
     "shell.execute_reply": "2025-06-10T15:54:27.888210Z",
     "shell.execute_reply.started": "2025-06-10T15:54:27.883615Z"
    }
   },
   "outputs": [],
   "source": [
    "import numpy as np\n",
    "from tensorflow.keras.preprocessing.sequence import pad_sequences\n",
    "from tensorflow.keras.preprocessing.text import Tokenizer"
   ]
  },
  {
   "cell_type": "code",
   "execution_count": 92,
   "id": "a7056913-ee97-4c0c-9561-269f91f1154b",
   "metadata": {
    "execution": {
     "iopub.execute_input": "2025-06-10T15:54:28.164749Z",
     "iopub.status.busy": "2025-06-10T15:54:28.164311Z",
     "iopub.status.idle": "2025-06-10T15:54:28.351929Z",
     "shell.execute_reply": "2025-06-10T15:54:28.351535Z",
     "shell.execute_reply.started": "2025-06-10T15:54:28.164718Z"
    }
   },
   "outputs": [
    {
     "name": "stdout",
     "output_type": "stream",
     "text": [
      "There are 15212 different words in your corpus\n"
     ]
    }
   ],
   "source": [
    "X = train_df['text']\n",
    "\n",
    "tk = Tokenizer()\n",
    "tk.fit_on_texts(X)\n",
    "vocab_size = len(tk.word_index)\n",
    "print(f'There are {vocab_size} different words in your corpus')"
   ]
  },
  {
   "cell_type": "code",
   "execution_count": 93,
   "id": "fc5348a8-f984-4c90-b088-16ac178b2f6e",
   "metadata": {
    "execution": {
     "iopub.execute_input": "2025-06-10T15:54:28.716653Z",
     "iopub.status.busy": "2025-06-10T15:54:28.716279Z",
     "iopub.status.idle": "2025-06-10T15:54:28.749115Z",
     "shell.execute_reply": "2025-06-10T15:54:28.748566Z",
     "shell.execute_reply.started": "2025-06-10T15:54:28.716628Z"
    }
   },
   "outputs": [
    {
     "data": {
      "text/html": [
       "<div>\n",
       "<style scoped>\n",
       "    .dataframe tbody tr th:only-of-type {\n",
       "        vertical-align: middle;\n",
       "    }\n",
       "\n",
       "    .dataframe tbody tr th {\n",
       "        vertical-align: top;\n",
       "    }\n",
       "\n",
       "    .dataframe thead th {\n",
       "        text-align: right;\n",
       "    }\n",
       "</style>\n",
       "<table border=\"1\" class=\"dataframe\">\n",
       "  <thead>\n",
       "    <tr style=\"text-align: right;\">\n",
       "      <th></th>\n",
       "      <th>text</th>\n",
       "      <th>label</th>\n",
       "      <th>length</th>\n",
       "    </tr>\n",
       "  </thead>\n",
       "  <tbody>\n",
       "    <tr>\n",
       "      <th>9355</th>\n",
       "      <td>no response</td>\n",
       "      <td>3</td>\n",
       "      <td>2</td>\n",
       "    </tr>\n",
       "    <tr>\n",
       "      <th>4150</th>\n",
       "      <td>earth crake</td>\n",
       "      <td>4</td>\n",
       "      <td>2</td>\n",
       "    </tr>\n",
       "    <tr>\n",
       "      <th>12801</th>\n",
       "      <td>one day</td>\n",
       "      <td>0</td>\n",
       "      <td>2</td>\n",
       "    </tr>\n",
       "    <tr>\n",
       "      <th>12204</th>\n",
       "      <td>one night</td>\n",
       "      <td>1</td>\n",
       "      <td>2</td>\n",
       "    </tr>\n",
       "    <tr>\n",
       "      <th>12546</th>\n",
       "      <td>at school</td>\n",
       "      <td>3</td>\n",
       "      <td>2</td>\n",
       "    </tr>\n",
       "    <tr>\n",
       "      <th>...</th>\n",
       "      <td>...</td>\n",
       "      <td>...</td>\n",
       "      <td>...</td>\n",
       "    </tr>\n",
       "    <tr>\n",
       "      <th>46</th>\n",
       "      <td>i lost my special mind but don t worry i m sti...</td>\n",
       "      <td>1</td>\n",
       "      <td>64</td>\n",
       "    </tr>\n",
       "    <tr>\n",
       "      <th>7222</th>\n",
       "      <td>i am happier this year in all ways i am just g...</td>\n",
       "      <td>1</td>\n",
       "      <td>64</td>\n",
       "    </tr>\n",
       "    <tr>\n",
       "      <th>9626</th>\n",
       "      <td>i feel in my bones like nobody cares if im her...</td>\n",
       "      <td>0</td>\n",
       "      <td>64</td>\n",
       "    </tr>\n",
       "    <tr>\n",
       "      <th>9618</th>\n",
       "      <td>i feel you i dont believ in you but i keep my ...</td>\n",
       "      <td>1</td>\n",
       "      <td>64</td>\n",
       "    </tr>\n",
       "    <tr>\n",
       "      <th>6322</th>\n",
       "      <td>i guess which meant or so i assume no photos n...</td>\n",
       "      <td>0</td>\n",
       "      <td>66</td>\n",
       "    </tr>\n",
       "  </tbody>\n",
       "</table>\n",
       "<p>16000 rows × 3 columns</p>\n",
       "</div>"
      ],
      "text/plain": [
       "                                                    text  label  length\n",
       "9355                                         no response      3       2\n",
       "4150                                         earth crake      4       2\n",
       "12801                                            one day      0       2\n",
       "12204                                          one night      1       2\n",
       "12546                                          at school      3       2\n",
       "...                                                  ...    ...     ...\n",
       "46     i lost my special mind but don t worry i m sti...      1      64\n",
       "7222   i am happier this year in all ways i am just g...      1      64\n",
       "9626   i feel in my bones like nobody cares if im her...      0      64\n",
       "9618   i feel you i dont believ in you but i keep my ...      1      64\n",
       "6322   i guess which meant or so i assume no photos n...      0      66\n",
       "\n",
       "[16000 rows x 3 columns]"
      ]
     },
     "execution_count": 93,
     "metadata": {},
     "output_type": "execute_result"
    }
   ],
   "source": [
    "train_df['length'] = train_df['text'].apply(lambda x: len(x.split()))\n",
    "train_df.sort_values('length')"
   ]
  },
  {
   "cell_type": "code",
   "execution_count": 25,
   "id": "26b845cf-d127-4fa9-a54a-3040c0b06c2e",
   "metadata": {
    "execution": {
     "iopub.execute_input": "2025-06-10T12:42:01.805034Z",
     "iopub.status.busy": "2025-06-10T12:42:01.804632Z",
     "iopub.status.idle": "2025-06-10T12:42:02.285415Z",
     "shell.execute_reply": "2025-06-10T12:42:02.284984Z",
     "shell.execute_reply.started": "2025-06-10T12:42:01.805003Z"
    }
   },
   "outputs": [
    {
     "data": {
      "text/plain": [
       "<Axes: >"
      ]
     },
     "execution_count": 25,
     "metadata": {},
     "output_type": "execute_result"
    },
    {
     "data": {
      "image/png": "[encoded data removed]",
      "text/plain": [
       "<Figure size 640x480 with 1 Axes>"
      ]
     },
     "metadata": {},
     "output_type": "display_data"
    }
   ],
   "source": [
    "train_df.length.hist()"
   ]
  },
  {
   "cell_type": "markdown",
   "id": "daf27c6d-0ad6-4080-a51f-5085532e9db5",
   "metadata": {},
   "source": [
    "# Base Model"
   ]
  },
  {
   "cell_type": "markdown",
   "id": "6e335bc3-0582-477a-872f-b2355b70c7af",
   "metadata": {},
   "source": [
    "### Preprocessing"
   ]
  },
  {
   "cell_type": "code",
   "execution_count": 26,
   "id": "c4e1ab2f-bd15-418b-8519-a6dfdaab217f",
   "metadata": {
    "execution": {
     "iopub.execute_input": "2025-06-10T12:42:37.898116Z",
     "iopub.status.busy": "2025-06-10T12:42:37.897434Z",
     "iopub.status.idle": "2025-06-10T12:42:37.902528Z",
     "shell.execute_reply": "2025-06-10T12:42:37.901506Z",
     "shell.execute_reply.started": "2025-06-10T12:42:37.898075Z"
    }
   },
   "outputs": [],
   "source": [
    "def pad(X, tk):\n",
    "    X_token = tk.texts_to_sequences(X)\n",
    "    return pad_sequences(X_token, dtype='float32', padding='post', maxlen=30)"
   ]
  },
  {
   "cell_type": "code",
   "execution_count": 27,
   "id": "20673adb-ba78-41d3-8307-b852a1e9fb44",
   "metadata": {
    "execution": {
     "iopub.execute_input": "2025-06-10T12:42:38.621242Z",
     "iopub.status.busy": "2025-06-10T12:42:38.620860Z",
     "iopub.status.idle": "2025-06-10T12:42:38.767304Z",
     "shell.execute_reply": "2025-06-10T12:42:38.766925Z",
     "shell.execute_reply.started": "2025-06-10T12:42:38.621218Z"
    }
   },
   "outputs": [
    {
     "data": {
      "text/plain": [
       "(16000, 30)"
      ]
     },
     "execution_count": 27,
     "metadata": {},
     "output_type": "execute_result"
    }
   ],
   "source": [
    "X_pad = pad(X, tk)\n",
    "X_pad.shape"
   ]
  },
  {
   "cell_type": "markdown",
   "id": "0ae48f81-a047-461c-81dc-4ca64d0b2d77",
   "metadata": {},
   "source": [
    "### Model architecture"
   ]
  },
  {
   "cell_type": "code",
   "execution_count": 29,
   "id": "0e29d7b5-2d3f-4818-931a-9ec93c2aa160",
   "metadata": {
    "execution": {
     "iopub.execute_input": "2025-06-10T12:42:40.693332Z",
     "iopub.status.busy": "2025-06-10T12:42:40.692871Z",
     "iopub.status.idle": "2025-06-10T12:42:40.706330Z",
     "shell.execute_reply": "2025-06-10T12:42:40.705610Z",
     "shell.execute_reply.started": "2025-06-10T12:42:40.693306Z"
    }
   },
   "outputs": [],
   "source": [
    "from tensorflow.keras import Sequential, Input, layers\n",
    "\n",
    "embedding_size = 50\n",
    "\n",
    "model = Sequential()\n",
    "model.add(layers.Embedding(input_dim=vocab_size + 1, output_dim=embedding_size, mask_zero=True))\n",
    "model.add(layers.Conv1D(16, kernel_size=3))\n",
    "model.add(layers.Flatten())\n",
    "model.add(layers.Dense(5,))\n",
    "model.add(layers.Dense(6, activation='softmax'))"
   ]
  },
  {
   "cell_type": "markdown",
   "id": "3b2e8178-1f10-44dc-903f-b2ac8eb5a86a",
   "metadata": {},
   "source": [
    "### Model fitting"
   ]
  },
  {
   "cell_type": "code",
   "execution_count": 81,
   "id": "4217815b-1780-46a0-a2a6-b7c919fcd43d",
   "metadata": {
    "execution": {
     "iopub.execute_input": "2025-06-10T15:23:54.283696Z",
     "iopub.status.busy": "2025-06-10T15:23:54.282932Z",
     "iopub.status.idle": "2025-06-10T15:24:01.023808Z",
     "shell.execute_reply": "2025-06-10T15:24:01.023484Z",
     "shell.execute_reply.started": "2025-06-10T15:23:54.283636Z"
    }
   },
   "outputs": [
    {
     "name": "stdout",
     "output_type": "stream",
     "text": [
      "Epoch 1/50\n"
     ]
    },
    {
     "name": "stderr",
     "output_type": "stream",
     "text": [
      "/Users/tobiasurhaug/.pyenv/versions/3.10.6/envs/pocketcoach/lib/python3.10/site-packages/keras/src/layers/layer.py:965: UserWarning: Layer 'conv1d_1' (of type Conv1D) was passed an input with a mask attached to it. However, this layer does not support masking and will therefore destroy the mask information. Downstream layers will not see the mask.\n",
      "  warnings.warn(\n"
     ]
    },
    {
     "name": "stdout",
     "output_type": "stream",
     "text": [
      "\u001b[1m500/500\u001b[0m \u001b[32m━━━━━━━━━━━━━━━━━━━━\u001b[0m\u001b[37m\u001b[0m \u001b[1m1s\u001b[0m 2ms/step - accuracy: 0.9884 - loss: 0.0399 - val_accuracy: 0.8360 - val_loss: 0.7415\n",
      "Epoch 2/50\n",
      "\u001b[1m500/500\u001b[0m \u001b[32m━━━━━━━━━━━━━━━━━━━━\u001b[0m\u001b[37m\u001b[0m \u001b[1m1s\u001b[0m 2ms/step - accuracy: 0.9907 - loss: 0.0291 - val_accuracy: 0.8335 - val_loss: 0.8286\n",
      "Epoch 3/50\n",
      "\u001b[1m500/500\u001b[0m \u001b[32m━━━━━━━━━━━━━━━━━━━━\u001b[0m\u001b[37m\u001b[0m \u001b[1m1s\u001b[0m 2ms/step - accuracy: 0.9949 - loss: 0.0200 - val_accuracy: 0.8265 - val_loss: 0.8302\n",
      "Epoch 4/50\n",
      "\u001b[1m500/500\u001b[0m \u001b[32m━━━━━━━━━━━━━━━━━━━━\u001b[0m\u001b[37m\u001b[0m \u001b[1m1s\u001b[0m 2ms/step - accuracy: 0.9956 - loss: 0.0175 - val_accuracy: 0.8270 - val_loss: 0.8774\n",
      "Epoch 5/50\n",
      "\u001b[1m500/500\u001b[0m \u001b[32m━━━━━━━━━━━━━━━━━━━━\u001b[0m\u001b[37m\u001b[0m \u001b[1m1s\u001b[0m 2ms/step - accuracy: 0.9950 - loss: 0.0184 - val_accuracy: 0.8245 - val_loss: 0.9071\n",
      "Epoch 6/50\n",
      "\u001b[1m500/500\u001b[0m \u001b[32m━━━━━━━━━━━━━━━━━━━━\u001b[0m\u001b[37m\u001b[0m \u001b[1m1s\u001b[0m 2ms/step - accuracy: 0.9960 - loss: 0.0176 - val_accuracy: 0.8195 - val_loss: 0.9267\n"
     ]
    },
    {
     "data": {
      "text/plain": [
       "<keras.src.callbacks.history.History at 0x31ff2a2f0>"
      ]
     },
     "execution_count": 81,
     "metadata": {},
     "output_type": "execute_result"
    }
   ],
   "source": [
    "from tensorflow.keras.callbacks import EarlyStopping\n",
    "\n",
    "y = train_df['label']\n",
    "\n",
    "X_val = pad(validation_df['text'], tk)\n",
    "y_val = validation_df['label']\n",
    "\n",
    "model.compile(loss='sparse_categorical_crossentropy',\n",
    "              optimizer='adam',\n",
    "              metrics=['accuracy'])\n",
    "\n",
    "es = EarlyStopping(patience=5, restore_best_weights=True)\n",
    "model.fit(\n",
    "    X_pad, \n",
    "    y,\n",
    "    validation_data=(X_val, y_val),\n",
    "    # validation_split=0.3,\n",
    "    epochs=50, \n",
    "    batch_size=32, \n",
    "    verbose=1, \n",
    "    callbacks=[es]\n",
    ")"
   ]
  },
  {
   "cell_type": "code",
   "execution_count": 69,
   "id": "b20cd990-c529-41a0-94af-97fc3d54a7be",
   "metadata": {
    "execution": {
     "iopub.execute_input": "2025-06-10T14:23:30.176576Z",
     "iopub.status.busy": "2025-06-10T14:23:30.175751Z",
     "iopub.status.idle": "2025-06-10T14:23:30.196558Z",
     "shell.execute_reply": "2025-06-10T14:23:30.196198Z",
     "shell.execute_reply.started": "2025-06-10T14:23:30.176511Z"
    }
   },
   "outputs": [
    {
     "data": {
      "text/html": [
       "<pre style=\"white-space:pre;overflow-x:auto;line-height:normal;font-family:Menlo,'DejaVu Sans Mono',consolas,'Courier New',monospace\"><span style=\"font-weight: bold\">Model: \"sequential_1\"</span>\n",
       "</pre>\n"
      ],
      "text/plain": [
       "\u001b[1mModel: \"sequential_1\"\u001b[0m\n"
      ]
     },
     "metadata": {},
     "output_type": "display_data"
    },
    {
     "data": {
      "text/html": [
       "<pre style=\"white-space:pre;overflow-x:auto;line-height:normal;font-family:Menlo,'DejaVu Sans Mono',consolas,'Courier New',monospace\">┏━━━━━━━━━━━━━━━━━━━━━━━━━━━━━━━━━┳━━━━━━━━━━━━━━━━━━━━━━━━┳━━━━━━━━━━━━━━━┓\n",
       "┃<span style=\"font-weight: bold\"> Layer (type)                    </span>┃<span style=\"font-weight: bold\"> Output Shape           </span>┃<span style=\"font-weight: bold\">       Param # </span>┃\n",
       "┡━━━━━━━━━━━━━━━━━━━━━━━━━━━━━━━━━╇━━━━━━━━━━━━━━━━━━━━━━━━╇━━━━━━━━━━━━━━━┩\n",
       "│ embedding_1 (<span style=\"color: #0087ff; text-decoration-color: #0087ff\">Embedding</span>)         │ (<span style=\"color: #00af00; text-decoration-color: #00af00\">16</span>, <span style=\"color: #00af00; text-decoration-color: #00af00\">30</span>, <span style=\"color: #00af00; text-decoration-color: #00af00\">50</span>)           │       <span style=\"color: #00af00; text-decoration-color: #00af00\">760,650</span> │\n",
       "├─────────────────────────────────┼────────────────────────┼───────────────┤\n",
       "│ conv1d_1 (<span style=\"color: #0087ff; text-decoration-color: #0087ff\">Conv1D</span>)               │ (<span style=\"color: #00af00; text-decoration-color: #00af00\">16</span>, <span style=\"color: #00af00; text-decoration-color: #00af00\">28</span>, <span style=\"color: #00af00; text-decoration-color: #00af00\">16</span>)           │         <span style=\"color: #00af00; text-decoration-color: #00af00\">2,416</span> │\n",
       "├─────────────────────────────────┼────────────────────────┼───────────────┤\n",
       "│ flatten_1 (<span style=\"color: #0087ff; text-decoration-color: #0087ff\">Flatten</span>)             │ (<span style=\"color: #00af00; text-decoration-color: #00af00\">16</span>, <span style=\"color: #00af00; text-decoration-color: #00af00\">448</span>)              │             <span style=\"color: #00af00; text-decoration-color: #00af00\">0</span> │\n",
       "├─────────────────────────────────┼────────────────────────┼───────────────┤\n",
       "│ dense_2 (<span style=\"color: #0087ff; text-decoration-color: #0087ff\">Dense</span>)                 │ (<span style=\"color: #00af00; text-decoration-color: #00af00\">16</span>, <span style=\"color: #00af00; text-decoration-color: #00af00\">5</span>)                │         <span style=\"color: #00af00; text-decoration-color: #00af00\">2,245</span> │\n",
       "├─────────────────────────────────┼────────────────────────┼───────────────┤\n",
       "│ dense_3 (<span style=\"color: #0087ff; text-decoration-color: #0087ff\">Dense</span>)                 │ (<span style=\"color: #00af00; text-decoration-color: #00af00\">16</span>, <span style=\"color: #00af00; text-decoration-color: #00af00\">6</span>)                │            <span style=\"color: #00af00; text-decoration-color: #00af00\">36</span> │\n",
       "└─────────────────────────────────┴────────────────────────┴───────────────┘\n",
       "</pre>\n"
      ],
      "text/plain": [
       "┏━━━━━━━━━━━━━━━━━━━━━━━━━━━━━━━━━┳━━━━━━━━━━━━━━━━━━━━━━━━┳━━━━━━━━━━━━━━━┓\n",
       "┃\u001b[1m \u001b[0m\u001b[1mLayer (type)                   \u001b[0m\u001b[1m \u001b[0m┃\u001b[1m \u001b[0m\u001b[1mOutput Shape          \u001b[0m\u001b[1m \u001b[0m┃\u001b[1m \u001b[0m\u001b[1m      Param #\u001b[0m\u001b[1m \u001b[0m┃\n",
       "┡━━━━━━━━━━━━━━━━━━━━━━━━━━━━━━━━━╇━━━━━━━━━━━━━━━━━━━━━━━━╇━━━━━━━━━━━━━━━┩\n",
       "│ embedding_1 (\u001b[38;5;33mEmbedding\u001b[0m)         │ (\u001b[38;5;34m16\u001b[0m, \u001b[38;5;34m30\u001b[0m, \u001b[38;5;34m50\u001b[0m)           │       \u001b[38;5;34m760,650\u001b[0m │\n",
       "├─────────────────────────────────┼────────────────────────┼───────────────┤\n",
       "│ conv1d_1 (\u001b[38;5;33mConv1D\u001b[0m)               │ (\u001b[38;5;34m16\u001b[0m, \u001b[38;5;34m28\u001b[0m, \u001b[38;5;34m16\u001b[0m)           │         \u001b[38;5;34m2,416\u001b[0m │\n",
       "├─────────────────────────────────┼────────────────────────┼───────────────┤\n",
       "│ flatten_1 (\u001b[38;5;33mFlatten\u001b[0m)             │ (\u001b[38;5;34m16\u001b[0m, \u001b[38;5;34m448\u001b[0m)              │             \u001b[38;5;34m0\u001b[0m │\n",
       "├─────────────────────────────────┼────────────────────────┼───────────────┤\n",
       "│ dense_2 (\u001b[38;5;33mDense\u001b[0m)                 │ (\u001b[38;5;34m16\u001b[0m, \u001b[38;5;34m5\u001b[0m)                │         \u001b[38;5;34m2,245\u001b[0m │\n",
       "├─────────────────────────────────┼────────────────────────┼───────────────┤\n",
       "│ dense_3 (\u001b[38;5;33mDense\u001b[0m)                 │ (\u001b[38;5;34m16\u001b[0m, \u001b[38;5;34m6\u001b[0m)                │            \u001b[38;5;34m36\u001b[0m │\n",
       "└─────────────────────────────────┴────────────────────────┴───────────────┘\n"
      ]
     },
     "metadata": {},
     "output_type": "display_data"
    },
    {
     "data": {
      "text/html": [
       "<pre style=\"white-space:pre;overflow-x:auto;line-height:normal;font-family:Menlo,'DejaVu Sans Mono',consolas,'Courier New',monospace\"><span style=\"font-weight: bold\"> Total params: </span><span style=\"color: #00af00; text-decoration-color: #00af00\">2,296,043</span> (8.76 MB)\n",
       "</pre>\n"
      ],
      "text/plain": [
       "\u001b[1m Total params: \u001b[0m\u001b[38;5;34m2,296,043\u001b[0m (8.76 MB)\n"
      ]
     },
     "metadata": {},
     "output_type": "display_data"
    },
    {
     "data": {
      "text/html": [
       "<pre style=\"white-space:pre;overflow-x:auto;line-height:normal;font-family:Menlo,'DejaVu Sans Mono',consolas,'Courier New',monospace\"><span style=\"font-weight: bold\"> Trainable params: </span><span style=\"color: #00af00; text-decoration-color: #00af00\">765,347</span> (2.92 MB)\n",
       "</pre>\n"
      ],
      "text/plain": [
       "\u001b[1m Trainable params: \u001b[0m\u001b[38;5;34m765,347\u001b[0m (2.92 MB)\n"
      ]
     },
     "metadata": {},
     "output_type": "display_data"
    },
    {
     "data": {
      "text/html": [
       "<pre style=\"white-space:pre;overflow-x:auto;line-height:normal;font-family:Menlo,'DejaVu Sans Mono',consolas,'Courier New',monospace\"><span style=\"font-weight: bold\"> Non-trainable params: </span><span style=\"color: #00af00; text-decoration-color: #00af00\">0</span> (0.00 B)\n",
       "</pre>\n"
      ],
      "text/plain": [
       "\u001b[1m Non-trainable params: \u001b[0m\u001b[38;5;34m0\u001b[0m (0.00 B)\n"
      ]
     },
     "metadata": {},
     "output_type": "display_data"
    },
    {
     "data": {
      "text/html": [
       "<pre style=\"white-space:pre;overflow-x:auto;line-height:normal;font-family:Menlo,'DejaVu Sans Mono',consolas,'Courier New',monospace\"><span style=\"font-weight: bold\"> Optimizer params: </span><span style=\"color: #00af00; text-decoration-color: #00af00\">1,530,696</span> (5.84 MB)\n",
       "</pre>\n"
      ],
      "text/plain": [
       "\u001b[1m Optimizer params: \u001b[0m\u001b[38;5;34m1,530,696\u001b[0m (5.84 MB)\n"
      ]
     },
     "metadata": {},
     "output_type": "display_data"
    }
   ],
   "source": [
    "model.summary()"
   ]
  },
  {
   "cell_type": "markdown",
   "id": "9ec62467-4ecf-48d3-8f3c-2f1f9fb83bd6",
   "metadata": {},
   "source": [
    "### Model Evaluation"
   ]
  },
  {
   "cell_type": "code",
   "execution_count": 70,
   "id": "ef0040ee-50ef-4d8e-95b9-1f663bf3c9e7",
   "metadata": {
    "execution": {
     "iopub.execute_input": "2025-06-10T14:23:31.909771Z",
     "iopub.status.busy": "2025-06-10T14:23:31.908978Z",
     "iopub.status.idle": "2025-06-10T14:23:32.012441Z",
     "shell.execute_reply": "2025-06-10T14:23:32.012089Z",
     "shell.execute_reply.started": "2025-06-10T14:23:31.909741Z"
    }
   },
   "outputs": [
    {
     "name": "stdout",
     "output_type": "stream",
     "text": [
      "\u001b[1m63/63\u001b[0m \u001b[32m━━━━━━━━━━━━━━━━━━━━\u001b[0m\u001b[37m\u001b[0m \u001b[1m0s\u001b[0m 600us/step - accuracy: 0.8223 - loss: 0.6996\n"
     ]
    }
   ],
   "source": [
    "X_test = pad(test_df['text'], tk)\n",
    "y_test = test_df['label']\n",
    "\n",
    "evaluation = model.evaluate(X_test, y_test, return_dict=True)"
   ]
  },
  {
   "cell_type": "code",
   "execution_count": 71,
   "id": "78444f54-a5b1-4e26-8c56-d8690e3b9eee",
   "metadata": {
    "execution": {
     "iopub.execute_input": "2025-06-10T14:23:34.500149Z",
     "iopub.status.busy": "2025-06-10T14:23:34.499079Z",
     "iopub.status.idle": "2025-06-10T14:23:34.508137Z",
     "shell.execute_reply": "2025-06-10T14:23:34.507317Z",
     "shell.execute_reply.started": "2025-06-10T14:23:34.500101Z"
    }
   },
   "outputs": [
    {
     "data": {
      "text/plain": [
       "{'accuracy': 0.8299999833106995, 'loss': 0.6813883185386658}"
      ]
     },
     "execution_count": 71,
     "metadata": {},
     "output_type": "execute_result"
    }
   ],
   "source": [
    "evaluation"
   ]
  },
  {
   "cell_type": "code",
   "execution_count": 95,
   "id": "18b9c05c-69e5-4eb7-a06e-6c6a393fc8fb",
   "metadata": {
    "execution": {
     "iopub.execute_input": "2025-06-10T16:00:44.427292Z",
     "iopub.status.busy": "2025-06-10T16:00:44.426908Z",
     "iopub.status.idle": "2025-06-10T16:00:44.476590Z",
     "shell.execute_reply": "2025-06-10T16:00:44.475807Z",
     "shell.execute_reply.started": "2025-06-10T16:00:44.427265Z"
    }
   },
   "outputs": [
    {
     "name": "stdout",
     "output_type": "stream",
     "text": [
      "\u001b[1m1/1\u001b[0m \u001b[32m━━━━━━━━━━━━━━━━━━━━\u001b[0m\u001b[37m\u001b[0m \u001b[1m0s\u001b[0m 13ms/step\n"
     ]
    },
    {
     "data": {
      "text/plain": [
       "'sadness'"
      ]
     },
     "execution_count": 95,
     "metadata": {},
     "output_type": "execute_result"
    }
   ],
   "source": [
    "test = [\"I’m so frustrated right now! How many times do I have to explain this? It’s like nobody listens or cares. This constant nonsense is driving me crazy. I’ve had enough of being ignored and overlooked. Something needs to change — immediately. This situation is completely unacceptable and unfair!\"]\n",
    "\n",
    "test_pad = pad(test, tk)\n",
    "y_pred = model.predict(test_pad)\n",
    "\n",
    "get_emotion_from_prediction(y_pred[0])"
   ]
  },
  {
   "cell_type": "code",
   "execution_count": 82,
   "id": "16de11da-d126-4cb1-bf19-b2f02b18c151",
   "metadata": {
    "execution": {
     "iopub.execute_input": "2025-06-10T15:28:18.394720Z",
     "iopub.status.busy": "2025-06-10T15:28:18.394136Z",
     "iopub.status.idle": "2025-06-10T15:28:18.402321Z",
     "shell.execute_reply": "2025-06-10T15:28:18.401547Z",
     "shell.execute_reply.started": "2025-06-10T15:28:18.394664Z"
    }
   },
   "outputs": [],
   "source": [
    "def get_emotion_from_prediction(y_pred):\n",
    "    highest_proba = -1\n",
    "    label_id = -1\n",
    "    for i, probability in enumerate(y_pred):\n",
    "        if probability > highest_proba:\n",
    "            highest_proba = probability\n",
    "            label_id = i\n",
    "\n",
    "\n",
    "    return category(label_id)\n",
    "    "
   ]
  },
  {
   "cell_type": "markdown",
   "id": "a389c78d-09ba-467e-80b9-2f2b0ca01c80",
   "metadata": {},
   "source": [
    "## Word2Vec"
   ]
  },
  {
   "cell_type": "code",
   "execution_count": 38,
   "id": "5704cd35-381f-4722-8f54-fdf85de249f8",
   "metadata": {
    "execution": {
     "iopub.execute_input": "2025-06-10T07:14:08.842180Z",
     "iopub.status.busy": "2025-06-10T07:14:08.841623Z",
     "iopub.status.idle": "2025-06-10T07:14:08.848652Z",
     "shell.execute_reply": "2025-06-10T07:14:08.846676Z",
     "shell.execute_reply.started": "2025-06-10T07:14:08.842141Z"
    }
   },
   "outputs": [],
   "source": [
    "train_sentences = train_df['text']\n",
    "train_labels = train_df['label']\n",
    "\n",
    "test_sentences = test_df['text']\n",
    "test_labels = test_df['label']"
   ]
  },
  {
   "cell_type": "code",
   "execution_count": 39,
   "id": "621de7f1-5985-4128-a93d-05307a7d06c4",
   "metadata": {
    "execution": {
     "iopub.execute_input": "2025-06-10T07:14:10.015939Z",
     "iopub.status.busy": "2025-06-10T07:14:10.015487Z",
     "iopub.status.idle": "2025-06-10T07:14:10.124072Z",
     "shell.execute_reply": "2025-06-10T07:14:10.123556Z",
     "shell.execute_reply.started": "2025-06-10T07:14:10.015899Z"
    }
   },
   "outputs": [],
   "source": [
    "from tensorflow.keras.preprocessing.text import text_to_word_sequence\n",
    "\n",
    "X_train = [text_to_word_sequence(sentence) for sentence in train_sentences]\n",
    "X_test = [text_to_word_sequence(sentence) for sentence in test_sentences]"
   ]
  },
  {
   "cell_type": "markdown",
   "id": "1b4c0e9a-76e0-4fbf-adb1-81b2c0f8db52",
   "metadata": {},
   "source": [
    "### Train Word2Vec"
   ]
  },
  {
   "cell_type": "code",
   "execution_count": 50,
   "id": "89cbd444-48a8-4f9c-a493-6b4c118ab72f",
   "metadata": {
    "execution": {
     "iopub.execute_input": "2025-06-10T07:24:45.591425Z",
     "iopub.status.busy": "2025-06-10T07:24:45.590678Z",
     "iopub.status.idle": "2025-06-10T07:24:45.870588Z",
     "shell.execute_reply": "2025-06-10T07:24:45.870230Z",
     "shell.execute_reply.started": "2025-06-10T07:24:45.591371Z"
    }
   },
   "outputs": [],
   "source": [
    "from gensim.models import Word2Vec\n",
    "\n",
    "vector_size = 50\n",
    "min_count = 5\n",
    "window_size = 3\n",
    "word2vec = Word2Vec(sentences=X_train, vector_size=vector_size, min_count=min_count, window=window_size)"
   ]
  },
  {
   "cell_type": "code",
   "execution_count": 51,
   "id": "00df194d-0145-4da6-b09c-acebbb91cec3",
   "metadata": {
    "execution": {
     "iopub.execute_input": "2025-06-10T07:24:46.293071Z",
     "iopub.status.busy": "2025-06-10T07:24:46.292679Z",
     "iopub.status.idle": "2025-06-10T07:24:46.344074Z",
     "shell.execute_reply": "2025-06-10T07:24:46.318955Z",
     "shell.execute_reply.started": "2025-06-10T07:24:46.293047Z"
    }
   },
   "outputs": [
    {
     "data": {
      "text/plain": [
       "[('sure', 0.6436328291893005),\n",
       " ('really', 0.6365910172462463),\n",
       " ('passionate', 0.6192165613174438),\n",
       " ('though', 0.6084685325622559),\n",
       " ('anything', 0.6067778468132019),\n",
       " ('blessed', 0.5875459909439087),\n",
       " ('excited', 0.5818597674369812),\n",
       " ('angry', 0.5803570747375488),\n",
       " ('sorry', 0.5729061961174011),\n",
       " ('just', 0.5642852783203125)]"
      ]
     },
     "execution_count": 51,
     "metadata": {},
     "output_type": "execute_result"
    }
   ],
   "source": [
    "word2vec.wv.most_similar('happy', 10)"
   ]
  },
  {
   "cell_type": "code",
   "execution_count": null,
   "id": "3776f966-d64b-460c-aaba-512f764037ee",
   "metadata": {},
   "outputs": [],
   "source": []
  },
  {
   "cell_type": "markdown",
   "id": "bad722e4-2f64-4665-9138-94f9fee81397",
   "metadata": {},
   "source": [
    "### Pre-trained embeddings"
   ]
  },
  {
   "cell_type": "code",
   "execution_count": 54,
   "id": "0cea834a-7822-4795-a7bd-c532720765e6",
   "metadata": {
    "execution": {
     "iopub.execute_input": "2025-06-10T07:31:19.577642Z",
     "iopub.status.busy": "2025-06-10T07:31:19.576539Z",
     "iopub.status.idle": "2025-06-10T07:31:29.917638Z",
     "shell.execute_reply": "2025-06-10T07:31:29.917133Z",
     "shell.execute_reply.started": "2025-06-10T07:31:19.577590Z"
    }
   },
   "outputs": [
    {
     "name": "stdout",
     "output_type": "stream",
     "text": [
      "['fasttext-wiki-news-subwords-300', 'conceptnet-numberbatch-17-06-300', 'word2vec-ruscorpora-300', 'word2vec-google-news-300', 'glove-wiki-gigaword-50', 'glove-wiki-gigaword-100', 'glove-wiki-gigaword-200', 'glove-wiki-gigaword-300', 'glove-twitter-25', 'glove-twitter-50', 'glove-twitter-100', 'glove-twitter-200', '__testing_word2vec-matrix-synopsis']\n"
     ]
    }
   ],
   "source": [
    "import gensim.downloader\n",
    "\n",
    "print(list(gensim.downloader.info()['models'].keys()))\n",
    "\n",
    "model_twitter = gensim.downloader.load('glove-twitter-25')"
   ]
  },
  {
   "cell_type": "code",
   "execution_count": 55,
   "id": "e132812b-f975-4df4-9301-fd38d353fe58",
   "metadata": {
    "execution": {
     "iopub.execute_input": "2025-06-10T07:31:29.918479Z",
     "iopub.status.busy": "2025-06-10T07:31:29.918378Z",
     "iopub.status.idle": "2025-06-10T07:31:30.025454Z",
     "shell.execute_reply": "2025-06-10T07:31:30.024612Z",
     "shell.execute_reply.started": "2025-06-10T07:31:29.918470Z"
    }
   },
   "outputs": [
    {
     "data": {
      "text/plain": [
       "[('selamatpagi', 0.7792333960533142),\n",
       " ('kaliaaan', 0.7415818572044373),\n",
       " ('يآقيوم', 0.7407386302947998),\n",
       " ('kaliaan', 0.7322357892990112),\n",
       " ('آعظــمُ', 0.7226245999336243),\n",
       " ('kaliann', 0.7160356640815735),\n",
       " ('kaliaann', 0.7066093683242798),\n",
       " ('오빠의', 0.7052625417709351),\n",
       " ('cantiiik', 0.7042316794395447),\n",
       " ('우리오빠', 0.7016592621803284)]"
      ]
     },
     "execution_count": 55,
     "metadata": {},
     "output_type": "execute_result"
    }
   ],
   "source": [
    "model_twitter.most_similar('happy', 10)"
   ]
  },
  {
   "cell_type": "code",
   "execution_count": null,
   "id": "e9832cfe-d398-47c7-b509-af327a2b5a4a",
   "metadata": {},
   "outputs": [],
   "source": []
  }
 ],
 "metadata": {
  "kernelspec": {
   "display_name": "Python 3 (ipykernel)",
   "language": "python",
   "name": "python3"
  },
  "language_info": {
   "codemirror_mode": {
    "name": "ipython",
    "version": 3
   },
   "file_extension": ".py",
   "mimetype": "text/x-python",
   "name": "python",
   "nbconvert_exporter": "python",
   "pygments_lexer": "ipython3",
   "version": "3.10.6"
  }
 },
 "nbformat": 4,
 "nbformat_minor": 5
}
