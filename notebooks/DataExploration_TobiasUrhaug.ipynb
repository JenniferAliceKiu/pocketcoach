{
 "cells": [
  {
   "cell_type": "code",
   "execution_count": 1,
   "id": "54647d55-76e4-4220-8262-66252dd8c677",
   "metadata": {
    "execution": {
     "iopub.execute_input": "2025-06-09T15:17:18.938764Z",
     "iopub.status.busy": "2025-06-09T15:17:18.938222Z",
     "iopub.status.idle": "2025-06-09T15:17:19.323768Z",
     "shell.execute_reply": "2025-06-09T15:17:19.323417Z",
     "shell.execute_reply.started": "2025-06-09T15:17:18.938728Z"
    }
   },
   "outputs": [],
   "source": [
    "import pandas as pd"
   ]
  },
  {
   "cell_type": "code",
   "execution_count": 12,
   "id": "6eeb33f6-f9f6-48bc-a22c-830f16561877",
   "metadata": {
    "execution": {
     "iopub.execute_input": "2025-06-09T18:42:40.837787Z",
     "iopub.status.busy": "2025-06-09T18:42:40.837115Z",
     "iopub.status.idle": "2025-06-09T18:42:40.879461Z",
     "shell.execute_reply": "2025-06-09T18:42:40.879000Z",
     "shell.execute_reply.started": "2025-06-09T18:42:40.837670Z"
    }
   },
   "outputs": [],
   "source": [
    "train_df = pd.read_csv('../raw_data/training.csv')\n",
    "test_df = pd.read_csv('../raw_data/test.csv')\n",
    "validation_df = pd.read_csv('../raw_data/validation.csv')"
   ]
  },
  {
   "cell_type": "code",
   "execution_count": 13,
   "id": "74d5c434-0157-488a-9d0b-e313fd644d56",
   "metadata": {
    "execution": {
     "iopub.execute_input": "2025-06-09T18:42:41.822564Z",
     "iopub.status.busy": "2025-06-09T18:42:41.821994Z",
     "iopub.status.idle": "2025-06-09T18:42:41.835470Z",
     "shell.execute_reply": "2025-06-09T18:42:41.834895Z",
     "shell.execute_reply.started": "2025-06-09T18:42:41.822525Z"
    }
   },
   "outputs": [
    {
     "data": {
      "text/html": [
       "<div>\n",
       "<style scoped>\n",
       "    .dataframe tbody tr th:only-of-type {\n",
       "        vertical-align: middle;\n",
       "    }\n",
       "\n",
       "    .dataframe tbody tr th {\n",
       "        vertical-align: top;\n",
       "    }\n",
       "\n",
       "    .dataframe thead th {\n",
       "        text-align: right;\n",
       "    }\n",
       "</style>\n",
       "<table border=\"1\" class=\"dataframe\">\n",
       "  <thead>\n",
       "    <tr style=\"text-align: right;\">\n",
       "      <th></th>\n",
       "      <th>text</th>\n",
       "      <th>label</th>\n",
       "    </tr>\n",
       "  </thead>\n",
       "  <tbody>\n",
       "    <tr>\n",
       "      <th>0</th>\n",
       "      <td>i didnt feel humiliated</td>\n",
       "      <td>0</td>\n",
       "    </tr>\n",
       "    <tr>\n",
       "      <th>1</th>\n",
       "      <td>i can go from feeling so hopeless to so damned...</td>\n",
       "      <td>0</td>\n",
       "    </tr>\n",
       "    <tr>\n",
       "      <th>2</th>\n",
       "      <td>im grabbing a minute to post i feel greedy wrong</td>\n",
       "      <td>3</td>\n",
       "    </tr>\n",
       "    <tr>\n",
       "      <th>3</th>\n",
       "      <td>i am ever feeling nostalgic about the fireplac...</td>\n",
       "      <td>2</td>\n",
       "    </tr>\n",
       "    <tr>\n",
       "      <th>4</th>\n",
       "      <td>i am feeling grouchy</td>\n",
       "      <td>3</td>\n",
       "    </tr>\n",
       "  </tbody>\n",
       "</table>\n",
       "</div>"
      ],
      "text/plain": [
       "                                                text  label\n",
       "0                            i didnt feel humiliated      0\n",
       "1  i can go from feeling so hopeless to so damned...      0\n",
       "2   im grabbing a minute to post i feel greedy wrong      3\n",
       "3  i am ever feeling nostalgic about the fireplac...      2\n",
       "4                               i am feeling grouchy      3"
      ]
     },
     "execution_count": 13,
     "metadata": {},
     "output_type": "execute_result"
    }
   ],
   "source": [
    "df.head()"
   ]
  },
  {
   "cell_type": "code",
   "execution_count": 34,
   "id": "b9cecd47-11d2-4575-b951-eb876db1c445",
   "metadata": {
    "execution": {
     "iopub.execute_input": "2025-06-09T19:06:23.196780Z",
     "iopub.status.busy": "2025-06-09T19:06:23.196186Z",
     "iopub.status.idle": "2025-06-09T19:06:23.207553Z",
     "shell.execute_reply": "2025-06-09T19:06:23.206833Z",
     "shell.execute_reply.started": "2025-06-09T19:06:23.196710Z"
    }
   },
   "outputs": [],
   "source": [
    "label_occurances = train_df.groupby('label').size().reset_index()\n",
    "label_occurances.columns = ['label', 'occurances'] "
   ]
  },
  {
   "cell_type": "code",
   "execution_count": 35,
   "id": "aeae4583-953e-48bd-8c6b-a435f1e7817d",
   "metadata": {
    "execution": {
     "iopub.execute_input": "2025-06-09T19:06:23.968362Z",
     "iopub.status.busy": "2025-06-09T19:06:23.967433Z",
     "iopub.status.idle": "2025-06-09T19:06:23.982742Z",
     "shell.execute_reply": "2025-06-09T19:06:23.981824Z",
     "shell.execute_reply.started": "2025-06-09T19:06:23.968319Z"
    }
   },
   "outputs": [
    {
     "name": "stdout",
     "output_type": "stream",
     "text": [
      "   label  occurances  percentage\n",
      "0      0        4666       29.16\n",
      "1      1        5362       33.51\n",
      "2      2        1304        8.15\n",
      "3      3        2159       13.49\n",
      "4      4        1937       12.11\n",
      "5      5         572        3.58\n"
     ]
    }
   ],
   "source": [
    "label_percentages_df = (\n",
    "    df['label']\n",
    "    .value_counts(normalize=True)\n",
    "    .mul(100)\n",
    "    .round(2)\n",
    "    .reset_index()\n",
    ")\n",
    "\n",
    "# Rename columns\n",
    "label_percentages_df.columns = ['label', 'percentage']\n",
    "\n",
    "full_stats = merged_df = pd.merge(label_occurances, label_percentages_df, on='label', how='inner')\n",
    "print(full_stats)"
   ]
  },
  {
   "cell_type": "code",
   "execution_count": null,
   "id": "ffa40b21-6df4-4016-981d-5a8dca8755b0",
   "metadata": {},
   "outputs": [],
   "source": []
  }
 ],
 "metadata": {
  "kernelspec": {
   "display_name": "Python 3 (ipykernel)",
   "language": "python",
   "name": "python3"
  },
  "language_info": {
   "codemirror_mode": {
    "name": "ipython",
    "version": 3
   },
   "file_extension": ".py",
   "mimetype": "text/x-python",
   "name": "python",
   "nbconvert_exporter": "python",
   "pygments_lexer": "ipython3",
   "version": "3.10.6"
  }
 },
 "nbformat": 4,
 "nbformat_minor": 5
}
