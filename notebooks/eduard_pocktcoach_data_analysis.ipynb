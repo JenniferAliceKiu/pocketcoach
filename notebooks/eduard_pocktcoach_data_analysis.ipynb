{
 "cells": [
  {
   "cell_type": "code",
   "execution_count": 1,
   "id": "578521cc-496e-4bb9-880a-0a8f24ed14b1",
   "metadata": {
    "execution": {
     "iopub.execute_input": "2025-06-09T13:00:38.847795Z",
     "iopub.status.busy": "2025-06-09T13:00:38.847319Z",
     "iopub.status.idle": "2025-06-09T13:00:40.493413Z",
     "shell.execute_reply": "2025-06-09T13:00:40.492289Z",
     "shell.execute_reply.started": "2025-06-09T13:00:38.847725Z"
    }
   },
   "outputs": [
    {
     "data": {
      "text/plain": [
       "True"
      ]
     },
     "execution_count": 1,
     "metadata": {},
     "output_type": "execute_result"
    }
   ],
   "source": [
    "import pandas as pd\n",
    "import os\n",
    "from dotenv import load_dotenv\n",
    "load_dotenv()"
   ]
  },
  {
   "cell_type": "code",
   "execution_count": 2,
   "id": "efb2c301-ef6f-45db-8b78-81073d29560d",
   "metadata": {
    "execution": {
     "iopub.execute_input": "2025-06-09T13:00:40.497237Z",
     "iopub.status.busy": "2025-06-09T13:00:40.496667Z",
     "iopub.status.idle": "2025-06-09T13:00:40.521965Z",
     "shell.execute_reply": "2025-06-09T13:00:40.511308Z",
     "shell.execute_reply.started": "2025-06-09T13:00:40.497145Z"
    }
   },
   "outputs": [],
   "source": [
    "path_to_project = os.getenv('PATH_TO_PROJECT')"
   ]
  },
  {
   "cell_type": "code",
   "execution_count": 3,
   "id": "c006c611-49e5-4a56-912d-011bd4210a99",
   "metadata": {
    "execution": {
     "iopub.execute_input": "2025-06-09T13:00:40.536620Z",
     "iopub.status.busy": "2025-06-09T13:00:40.536042Z",
     "iopub.status.idle": "2025-06-09T13:00:40.551958Z",
     "shell.execute_reply": "2025-06-09T13:00:40.548963Z",
     "shell.execute_reply.started": "2025-06-09T13:00:40.536565Z"
    }
   },
   "outputs": [
    {
     "data": {
      "text/plain": [
       "'/Users/eddy/code/JenniferAliceKiu/pocketcoach'"
      ]
     },
     "execution_count": 3,
     "metadata": {},
     "output_type": "execute_result"
    }
   ],
   "source": [
    "path_to_project"
   ]
  },
  {
   "cell_type": "code",
   "execution_count": 4,
   "id": "07a7fe55-b90b-4823-9469-9b1d645ad817",
   "metadata": {
    "execution": {
     "iopub.execute_input": "2025-06-09T13:00:40.554189Z",
     "iopub.status.busy": "2025-06-09T13:00:40.553302Z",
     "iopub.status.idle": "2025-06-09T13:00:40.809559Z",
     "shell.execute_reply": "2025-06-09T13:00:40.808632Z",
     "shell.execute_reply.started": "2025-06-09T13:00:40.554135Z"
    }
   },
   "outputs": [],
   "source": [
    "df = pd.read_parquet(f'{path_to_project}/raw_data/simplified/train-00000-of-00001.parquet', engine='pyarrow')"
   ]
  },
  {
   "cell_type": "code",
   "execution_count": 5,
   "id": "320394f7-3af3-4914-89e8-9c987c4cf1dd",
   "metadata": {
    "execution": {
     "iopub.execute_input": "2025-06-09T13:00:41.071650Z",
     "iopub.status.busy": "2025-06-09T13:00:41.070874Z",
     "iopub.status.idle": "2025-06-09T13:00:41.119052Z",
     "shell.execute_reply": "2025-06-09T13:00:41.111538Z",
     "shell.execute_reply.started": "2025-06-09T13:00:41.071609Z"
    }
   },
   "outputs": [
    {
     "data": {
      "text/html": [
       "<div>\n",
       "<style scoped>\n",
       "    .dataframe tbody tr th:only-of-type {\n",
       "        vertical-align: middle;\n",
       "    }\n",
       "\n",
       "    .dataframe tbody tr th {\n",
       "        vertical-align: top;\n",
       "    }\n",
       "\n",
       "    .dataframe thead th {\n",
       "        text-align: right;\n",
       "    }\n",
       "</style>\n",
       "<table border=\"1\" class=\"dataframe\">\n",
       "  <thead>\n",
       "    <tr style=\"text-align: right;\">\n",
       "      <th></th>\n",
       "      <th>text</th>\n",
       "      <th>labels</th>\n",
       "      <th>id</th>\n",
       "    </tr>\n",
       "  </thead>\n",
       "  <tbody>\n",
       "    <tr>\n",
       "      <th>0</th>\n",
       "      <td>My favourite food is anything I didn't have to...</td>\n",
       "      <td>[27]</td>\n",
       "      <td>eebbqej</td>\n",
       "    </tr>\n",
       "    <tr>\n",
       "      <th>1</th>\n",
       "      <td>Now if he does off himself, everyone will thin...</td>\n",
       "      <td>[27]</td>\n",
       "      <td>ed00q6i</td>\n",
       "    </tr>\n",
       "    <tr>\n",
       "      <th>2</th>\n",
       "      <td>WHY THE FUCK IS BAYLESS ISOING</td>\n",
       "      <td>[2]</td>\n",
       "      <td>eezlygj</td>\n",
       "    </tr>\n",
       "    <tr>\n",
       "      <th>3</th>\n",
       "      <td>To make her feel threatened</td>\n",
       "      <td>[14]</td>\n",
       "      <td>ed7ypvh</td>\n",
       "    </tr>\n",
       "    <tr>\n",
       "      <th>4</th>\n",
       "      <td>Dirty Southern Wankers</td>\n",
       "      <td>[3]</td>\n",
       "      <td>ed0bdzj</td>\n",
       "    </tr>\n",
       "  </tbody>\n",
       "</table>\n",
       "</div>"
      ],
      "text/plain": [
       "                                                text labels       id\n",
       "0  My favourite food is anything I didn't have to...   [27]  eebbqej\n",
       "1  Now if he does off himself, everyone will thin...   [27]  ed00q6i\n",
       "2                     WHY THE FUCK IS BAYLESS ISOING    [2]  eezlygj\n",
       "3                        To make her feel threatened   [14]  ed7ypvh\n",
       "4                             Dirty Southern Wankers    [3]  ed0bdzj"
      ]
     },
     "execution_count": 5,
     "metadata": {},
     "output_type": "execute_result"
    }
   ],
   "source": [
    "df.head()"
   ]
  },
  {
   "cell_type": "code",
   "execution_count": 6,
   "id": "eb734dab-ffd7-4151-8db9-772fab67aa57",
   "metadata": {
    "execution": {
     "iopub.execute_input": "2025-06-09T13:00:41.811435Z",
     "iopub.status.busy": "2025-06-09T13:00:41.810870Z",
     "iopub.status.idle": "2025-06-09T13:00:42.479463Z",
     "shell.execute_reply": "2025-06-09T13:00:42.474759Z",
     "shell.execute_reply.started": "2025-06-09T13:00:41.811375Z"
    }
   },
   "outputs": [
    {
     "ename": "ModuleNotFoundError",
     "evalue": "No module named 'nltk'",
     "output_type": "error",
     "traceback": [
      "\u001b[0;31m---------------------------------------------------------------------------\u001b[0m",
      "\u001b[0;31mModuleNotFoundError\u001b[0m                       Traceback (most recent call last)",
      "Cell \u001b[0;32mIn[6], line 2\u001b[0m\n\u001b[1;32m      1\u001b[0m \u001b[38;5;28;01mimport\u001b[39;00m\u001b[38;5;250m \u001b[39m\u001b[38;5;21;01mstring\u001b[39;00m\n\u001b[0;32m----> 2\u001b[0m \u001b[38;5;28;01mfrom\u001b[39;00m\u001b[38;5;250m \u001b[39m\u001b[38;5;21;01mnltk\u001b[39;00m\u001b[38;5;21;01m.\u001b[39;00m\u001b[38;5;21;01mcorpus\u001b[39;00m\u001b[38;5;250m \u001b[39m\u001b[38;5;28;01mimport\u001b[39;00m stopwords\n\u001b[1;32m      3\u001b[0m \u001b[38;5;28;01mfrom\u001b[39;00m\u001b[38;5;250m \u001b[39m\u001b[38;5;21;01mnltk\u001b[39;00m\u001b[38;5;250m \u001b[39m\u001b[38;5;28;01mimport\u001b[39;00m word_tokenize\n\u001b[1;32m      4\u001b[0m \u001b[38;5;28;01mfrom\u001b[39;00m\u001b[38;5;250m \u001b[39m\u001b[38;5;21;01mnltk\u001b[39;00m\u001b[38;5;21;01m.\u001b[39;00m\u001b[38;5;21;01mstem\u001b[39;00m\u001b[38;5;250m \u001b[39m\u001b[38;5;28;01mimport\u001b[39;00m WordNetLemmatizer\n",
      "\u001b[0;31mModuleNotFoundError\u001b[0m: No module named 'nltk'"
     ]
    }
   ],
   "source": [
    "import string\n",
    "from nltk.corpus import stopwords\n",
    "from nltk import word_tokenize\n",
    "from nltk.stem import WordNetLemmatizer\n",
    "stop_words = set(stopwords.words('english'))\n",
    "\n",
    "def preprocessing(sentence):\n",
    "    #Remove white spaces\n",
    "    sentence = sentence.strip()\n",
    "    #Lowercase\n",
    "    sentence = sentence.lower()\n",
    "    #Remove numbers\n",
    "    sentence = ''.join(word for word in sentence if not word.isdigit())\n",
    "    #Remove punctuation\n",
    "    for punctuation in string.punctuation:\n",
    "        sentence = sentence.replace(punctuation, '')\n",
    "    #Tokenize\n",
    "    tokenized = word_tokenize(sentence)\n",
    "    #remove stopwords\n",
    "    #stopwords_removed = [word for word in tokenized if not word in stop_words]\n",
    "    #Lemmatize\n",
    "    lemmatizer = WordNetLemmatizer()\n",
    "    lemmatized = [lemmatizer.lemmatize(word) for word in stopwords_removed] # Changed from stopwords_removed t\n",
    "    cleaned_sentence = \" \".join(lemmatized)\n",
    "    return cleaned_sentence"
   ]
  },
  {
   "cell_type": "code",
   "execution_count": null,
   "id": "36bf737e-3237-4ba2-b0dc-6c85b5700a7e",
   "metadata": {},
   "outputs": [],
   "source": []
  }
 ],
 "metadata": {
  "kernelspec": {
   "display_name": "Python 3 (ipykernel)",
   "language": "python",
   "name": "python3"
  },
  "language_info": {
   "codemirror_mode": {
    "name": "ipython",
    "version": 3
   },
   "file_extension": ".py",
   "mimetype": "text/x-python",
   "name": "python",
   "nbconvert_exporter": "python",
   "pygments_lexer": "ipython3",
   "version": "3.10.6"
  }
 },
 "nbformat": 4,
 "nbformat_minor": 5
}
