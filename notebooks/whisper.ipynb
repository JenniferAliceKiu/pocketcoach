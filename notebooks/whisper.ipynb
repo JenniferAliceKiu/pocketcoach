{
 "cells": [
  {
   "cell_type": "code",
   "execution_count": 6,
   "id": "18116d5c",
   "metadata": {},
   "outputs": [],
   "source": [
    "#Whisper speech-to-Text"
   ]
  },
  {
   "cell_type": "code",
   "execution_count": 14,
   "id": "abc56c9a",
   "metadata": {},
   "outputs": [
    {
     "name": "stderr",
     "output_type": "stream",
     "text": [
      "Device set to use mps:0\n"
     ]
    }
   ],
   "source": [
    "from transformers import pipeline\n",
    "transcription_pipe = pipeline(\n",
    "    \"automatic-speech-recognition\",\n",
    "    model=\"openai/whisper-tiny\",\n",
    ")"
   ]
  },
  {
   "cell_type": "code",
   "execution_count": 19,
   "id": "876b16db",
   "metadata": {},
   "outputs": [
    {
     "name": "stderr",
     "output_type": "stream",
     "text": [
      "/Users/jenniferkiunke/.pyenv/versions/3.10.6/envs/pocketcoach/lib/python3.10/site-packages/transformers/models/whisper/generation_whisper.py:573: FutureWarning: The input name `inputs` is deprecated. Please make sure to use `input_features` instead.\n",
      "  warnings.warn(\n",
      "Due to a bug fix in https://github.com/huggingface/transformers/pull/28687 transcription using a multilingual Whisper will default to language detection followed by transcription instead of translation to English.This might be a breaking change for your use case. If you want to instead always translate your audio to English, make sure to pass `language='en'`.\n",
      "Whisper did not predict an ending timestamp, which can happen if audio is cut off in the middle of a word. Also make sure WhisperTimeStampLogitsProcessor was used during generation.\n"
     ]
    },
    {
     "data": {
      "text/plain": [
       "{'text': ' The birch can use lid on the smooth planks. Glue the sheet to the dark blue background. It is easy to tell the depth of a well. These days, the chicken leg is a rare dish. Rice is often served in round bowls. The juice of lemons makes fine punch. The box was thrown beside the pork chuck. The hogs were fed chopped corn and garbage. For hours of steady work faced us, a large size in stockings is hard to sell.',\n",
       " 'chunks': [{'timestamp': (0.0, 4.0),\n",
       "   'text': ' The birch can use lid on the smooth planks.'},\n",
       "  {'timestamp': (4.0, 7.0),\n",
       "   'text': ' Glue the sheet to the dark blue background.'},\n",
       "  {'timestamp': (7.0, 10.0),\n",
       "   'text': ' It is easy to tell the depth of a well.'},\n",
       "  {'timestamp': (10.0, 14.0),\n",
       "   'text': ' These days, the chicken leg is a rare dish.'},\n",
       "  {'timestamp': (14.0, 17.0), 'text': ' Rice is often served in round bowls.'},\n",
       "  {'timestamp': (17.0, 20.0),\n",
       "   'text': ' The juice of lemons makes fine punch.'},\n",
       "  {'timestamp': (20.0, 23.0),\n",
       "   'text': ' The box was thrown beside the pork chuck.'},\n",
       "  {'timestamp': (23.0, 26.0),\n",
       "   'text': ' The hogs were fed chopped corn and garbage.'},\n",
       "  {'timestamp': (26.0, 0.0), 'text': ''},\n",
       "  {'timestamp': (7.0, None),\n",
       "   'text': ' For hours of steady work faced us, a large size in stockings is hard to sell.'}]}"
      ]
     },
     "execution_count": 19,
     "metadata": {},
     "output_type": "execute_result"
    }
   ],
   "source": [
    "transcription_pipe(\"../raw_data/test_audio.wav\", return_timestamps=True)\n"
   ]
  },
  {
   "cell_type": "code",
   "execution_count": null,
   "id": "481cc894",
   "metadata": {},
   "outputs": [],
   "source": [
    "#result = pipe(sample)\n",
    "#print(result[\"text\"])\n",
    "\n",
    "#if audiofile is very long -> chunk it..."
   ]
  },
  {
   "cell_type": "code",
   "execution_count": 24,
   "id": "b1d8ef46",
   "metadata": {},
   "outputs": [],
   "source": [
    "# Save the model and tokenizer/processor\n",
    "#save_directory = \"../models/whisper-tiny-local\"\n",
    "#transcription_pipe.save_pretrained(save_directory)\n",
    "\n",
    "# Save the model and tokenizer/processor\n",
    "save_directory = \"../models/whisper-tiny-local\"\n",
    "transcription_pipe.model.save_pretrained(save_directory)\n",
    "transcription_pipe.tokenizer.save_pretrained(save_directory)\n",
    "transcription_pipe.save_pretrained(save_directory)"
   ]
  },
  {
   "cell_type": "code",
   "execution_count": 28,
   "id": "7ac23574",
   "metadata": {},
   "outputs": [
    {
     "name": "stderr",
     "output_type": "stream",
     "text": [
      "Device set to use mps:0\n"
     ]
    }
   ],
   "source": [
    "# Load the model in the api\n",
    "loaded_pipeline = pipeline(\n",
    "    \"automatic-speech-recognition\",\n",
    "    model=\"../models/whisper-tiny-local\"\n",
    ")\n",
    "\n",
    "loaded_pipeline.model.generation_config.forced_decoder_ids = None\n",
    "loaded_pipeline.model.generation_config.suppress_tokens = None"
   ]
  },
  {
   "cell_type": "code",
   "execution_count": 29,
   "id": "b26166cb",
   "metadata": {},
   "outputs": [
    {
     "name": "stderr",
     "output_type": "stream",
     "text": [
      "/Users/jenniferkiunke/.pyenv/versions/3.10.6/envs/pocketcoach/lib/python3.10/site-packages/transformers/models/whisper/generation_whisper.py:573: FutureWarning: The input name `inputs` is deprecated. Please make sure to use `input_features` instead.\n",
      "  warnings.warn(\n",
      "`generation_config` default values have been modified to match model-specific defaults: {'begin_suppress_tokens': [220, 50257]}. If this is not desired, please set these values explicitly.\n",
      "A custom logits processor of type <class 'transformers.generation.logits_process.SuppressTokensAtBeginLogitsProcessor'> has been passed to `.generate()`, but it was also created in `.generate()`, given its parameterization. The custom <class 'transformers.generation.logits_process.SuppressTokensAtBeginLogitsProcessor'> will take precedence. Please check the docstring of <class 'transformers.generation.logits_process.SuppressTokensAtBeginLogitsProcessor'> to see related `.generate()` flags.\n",
      "Whisper did not predict an ending timestamp, which can happen if audio is cut off in the middle of a word. Also make sure WhisperTimeStampLogitsProcessor was used during generation.\n"
     ]
    },
    {
     "data": {
      "text/plain": [
       "{'text': ' The birch can use lid on the smooth planks. Glue the sheet to the dark blue background. It is easy to tell the depth of a well. These days, the chicken leg is a rare dish. Rice is often served in round bowls. The juice of lemons makes fine punch. The box was thrown beside the pork chuck. The hogs were fed chopped corn and garbage. For hours of steady work faced us, a large size in stockings is hard to sell.',\n",
       " 'chunks': [{'timestamp': (0.0, 4.0),\n",
       "   'text': ' The birch can use lid on the smooth planks.'},\n",
       "  {'timestamp': (4.0, 7.0),\n",
       "   'text': ' Glue the sheet to the dark blue background.'},\n",
       "  {'timestamp': (7.0, 10.0),\n",
       "   'text': ' It is easy to tell the depth of a well.'},\n",
       "  {'timestamp': (10.0, 14.0),\n",
       "   'text': ' These days, the chicken leg is a rare dish.'},\n",
       "  {'timestamp': (14.0, 17.0), 'text': ' Rice is often served in round bowls.'},\n",
       "  {'timestamp': (17.0, 20.0),\n",
       "   'text': ' The juice of lemons makes fine punch.'},\n",
       "  {'timestamp': (20.0, 23.0),\n",
       "   'text': ' The box was thrown beside the pork chuck.'},\n",
       "  {'timestamp': (23.0, 26.0),\n",
       "   'text': ' The hogs were fed chopped corn and garbage.'},\n",
       "  {'timestamp': (26.0, 0.0), 'text': ''},\n",
       "  {'timestamp': (7.0, None),\n",
       "   'text': ' For hours of steady work faced us, a large size in stockings is hard to sell.'}]}"
      ]
     },
     "execution_count": 29,
     "metadata": {},
     "output_type": "execute_result"
    }
   ],
   "source": [
    "loaded_pipeline(\"../raw_data/test_audio.wav\", return_timestamps=True)"
   ]
  },
  {
   "cell_type": "code",
   "execution_count": 32,
   "id": "48802646",
   "metadata": {},
   "outputs": [
    {
     "name": "stderr",
     "output_type": "stream",
     "text": [
      "/Users/jenniferkiunke/.pyenv/versions/3.10.6/envs/pocketcoach/lib/python3.10/site-packages/transformers/models/whisper/generation_whisper.py:573: FutureWarning: The input name `inputs` is deprecated. Please make sure to use `input_features` instead.\n",
      "  warnings.warn(\n",
      "Whisper did not predict an ending timestamp, which can happen if audio is cut off in the middle of a word. Also make sure WhisperTimeStampLogitsProcessor was used during generation.\n"
     ]
    },
    {
     "data": {
      "text/plain": [
       "{'text': \" Test audio. I had a busy day. I went for run morning. The weather was great. That energized me at work. We had some stressful meetings and our client was pretty unhappy and a lot of reorganization in the afternoon. I met my friend. It's always lovely. Just speak with her and we had some pizza and I was very tired in the evening.\",\n",
       " 'chunks': [{'timestamp': (0.0, 10.08),\n",
       "   'text': ' Test audio. I had a busy day. I went for run morning. The weather was great. That'},\n",
       "  {'timestamp': (10.08, 17.92),\n",
       "   'text': ' energized me at work. We had some stressful meetings and our client was pretty'},\n",
       "  {'timestamp': (17.92, 25.28),\n",
       "   'text': \" unhappy and a lot of reorganization in the afternoon. I met my friend. It's always\"},\n",
       "  {'timestamp': (25.28, 0.0), 'text': ''},\n",
       "  {'timestamp': (7.52, None),\n",
       "   'text': ' lovely. Just speak with her and we had some pizza and I was very tired in the evening.'}]}"
      ]
     },
     "execution_count": 32,
     "metadata": {},
     "output_type": "execute_result"
    }
   ],
   "source": [
    "#test with different audio file\n",
    "loaded_pipeline(\"../raw_data/VoiceExampleBusyday.wav\", return_timestamps=True)"
   ]
  }
 ],
 "metadata": {
  "kernelspec": {
   "display_name": "pocketcoach",
   "language": "python",
   "name": "python3"
  },
  "language_info": {
   "codemirror_mode": {
    "name": "ipython",
    "version": 3
   },
   "file_extension": ".py",
   "mimetype": "text/x-python",
   "name": "python",
   "nbconvert_exporter": "python",
   "pygments_lexer": "ipython3",
   "version": "3.10.6"
  }
 },
 "nbformat": 4,
 "nbformat_minor": 5
}
