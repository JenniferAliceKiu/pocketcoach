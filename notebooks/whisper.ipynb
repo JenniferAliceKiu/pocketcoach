{
 "cells": [
  {
   "cell_type": "code",
   "execution_count": 1,
   "id": "18116d5c",
   "metadata": {},
   "outputs": [],
   "source": [
    "#Whisper speech-to-Text\n",
    "import keras"
   ]
  },
  {
   "cell_type": "code",
   "execution_count": 2,
   "id": "abc56c9a",
   "metadata": {},
   "outputs": [
    {
     "name": "stderr",
     "output_type": "stream",
     "text": [
      "Device set to use mps:0\n"
     ]
    }
   ],
   "source": [
    "from transformers import pipeline\n",
    "transcription_pipe = pipeline(\n",
    "    \"automatic-speech-recognition\",\n",
    "    model=\"openai/whisper-tiny\",\n",
    ")"
   ]
  },
  {
   "cell_type": "code",
   "execution_count": 3,
   "id": "876b16db",
   "metadata": {},
   "outputs": [
    {
     "name": "stderr",
     "output_type": "stream",
     "text": [
      "/Users/jenniferkiunke/.pyenv/versions/3.10.6/envs/pocketcoach/lib/python3.10/site-packages/transformers/models/whisper/generation_whisper.py:573: FutureWarning: The input name `inputs` is deprecated. Please make sure to use `input_features` instead.\n",
      "  warnings.warn(\n",
      "Due to a bug fix in https://github.com/huggingface/transformers/pull/28687 transcription using a multilingual Whisper will default to language detection followed by transcription instead of translation to English.This might be a breaking change for your use case. If you want to instead always translate your audio to English, make sure to pass `language='en'`.\n",
      "Whisper did not predict an ending timestamp, which can happen if audio is cut off in the middle of a word. Also make sure WhisperTimeStampLogitsProcessor was used during generation.\n"
     ]
    },
    {
     "data": {
      "text/plain": [
       "{'text': ' The birch can use lid on this smooth planks. Glue the sheet to the dark blue background. It is easy to tell the depth of a well. These days, the chicken leg is a rare dish. Rice is often served in round bowls. The juice of lemon makes fine punch. The box was thrown beside the pork chuck. The hogs were fed chopped corn and garbage. For our the steady work face does a large size and stockings is hard to sell.',\n",
       " 'chunks': [{'timestamp': (0.0, 4.0),\n",
       "   'text': ' The birch can use lid on this smooth planks.'},\n",
       "  {'timestamp': (4.0, 7.0),\n",
       "   'text': ' Glue the sheet to the dark blue background.'},\n",
       "  {'timestamp': (7.0, 10.0),\n",
       "   'text': ' It is easy to tell the depth of a well.'},\n",
       "  {'timestamp': (10.0, 14.0),\n",
       "   'text': ' These days, the chicken leg is a rare dish.'},\n",
       "  {'timestamp': (14.0, 17.0), 'text': ' Rice is often served in round bowls.'},\n",
       "  {'timestamp': (17.0, 20.0), 'text': ' The juice of lemon makes fine punch.'},\n",
       "  {'timestamp': (20.0, 23.0),\n",
       "   'text': ' The box was thrown beside the pork chuck.'},\n",
       "  {'timestamp': (23.0, 26.0),\n",
       "   'text': ' The hogs were fed chopped corn and garbage.'},\n",
       "  {'timestamp': (26.0, 0.0), 'text': ''},\n",
       "  {'timestamp': (7.0, None),\n",
       "   'text': ' For our the steady work face does a large size and stockings is hard to sell.'}]}"
      ]
     },
     "execution_count": 3,
     "metadata": {},
     "output_type": "execute_result"
    }
   ],
   "source": [
    "transcription_pipe(\"../raw_data/test_audio.wav\", return_timestamps=True)\n"
   ]
  },
  {
   "cell_type": "code",
   "execution_count": 4,
   "id": "481cc894",
   "metadata": {},
   "outputs": [],
   "source": [
    "#result = pipe(sample)\n",
    "#print(result[\"text\"])\n",
    "\n",
    "#if audiofile is very long -> chunk it..."
   ]
  },
  {
   "cell_type": "code",
   "execution_count": 5,
   "id": "b1d8ef46",
   "metadata": {},
   "outputs": [
    {
     "name": "stderr",
     "output_type": "stream",
     "text": [
      "/Users/jenniferkiunke/.pyenv/versions/3.10.6/envs/pocketcoach/lib/python3.10/site-packages/transformers/modeling_utils.py:2810: UserWarning: Moving the following attributes in the config to the generation config: {'max_length': 448, 'suppress_tokens': [1, 2, 7, 8, 9, 10, 14, 25, 26, 27, 28, 29, 31, 58, 59, 60, 61, 62, 63, 90, 91, 92, 93, 359, 503, 522, 542, 873, 893, 902, 918, 922, 931, 1350, 1853, 1982, 2460, 2627, 3246, 3253, 3268, 3536, 3846, 3961, 4183, 4667, 6585, 6647, 7273, 9061, 9383, 10428, 10929, 11938, 12033, 12331, 12562, 13793, 14157, 14635, 15265, 15618, 16553, 16604, 18362, 18956, 20075, 21675, 22520, 26130, 26161, 26435, 28279, 29464, 31650, 32302, 32470, 36865, 42863, 47425, 49870, 50254, 50258, 50358, 50359, 50360, 50361, 50362], 'begin_suppress_tokens': [220, 50257]}. You are seeing this warning because you've set generation parameters in the model config, as opposed to in the generation config.\n",
      "  warnings.warn(\n"
     ]
    }
   ],
   "source": [
    "# Save the model and tokenizer/processor\n",
    "#save_directory = \"../models/whisper-tiny-local\"\n",
    "#transcription_pipe.save_pretrained(save_directory)\n",
    "\n",
    "# Save the model and tokenizer/processor\n",
    "save_directory = \"../models/whisper-tiny-local\"\n",
    "transcription_pipe.model.save_pretrained(save_directory)\n",
    "transcription_pipe.tokenizer.save_pretrained(save_directory)\n",
    "transcription_pipe.save_pretrained(save_directory)"
   ]
  },
  {
   "cell_type": "code",
   "execution_count": 6,
   "id": "7ac23574",
   "metadata": {},
   "outputs": [
    {
     "name": "stderr",
     "output_type": "stream",
     "text": [
      "Device set to use mps:0\n"
     ]
    }
   ],
   "source": [
    "# Load the model in the api\n",
    "loaded_pipeline = pipeline(\n",
    "    \"automatic-speech-recognition\",\n",
    "    model=\"../models/whisper-tiny-local\"\n",
    ")\n",
    "\n",
    "loaded_pipeline.model.generation_config.forced_decoder_ids = None\n",
    "loaded_pipeline.model.generation_config.suppress_tokens = None"
   ]
  },
  {
   "cell_type": "code",
   "execution_count": 7,
   "id": "b26166cb",
   "metadata": {},
   "outputs": [
    {
     "name": "stderr",
     "output_type": "stream",
     "text": [
      "/Users/jenniferkiunke/.pyenv/versions/3.10.6/envs/pocketcoach/lib/python3.10/site-packages/transformers/models/whisper/generation_whisper.py:573: FutureWarning: The input name `inputs` is deprecated. Please make sure to use `input_features` instead.\n",
      "  warnings.warn(\n",
      "Whisper did not predict an ending timestamp, which can happen if audio is cut off in the middle of a word. Also make sure WhisperTimeStampLogitsProcessor was used during generation.\n"
     ]
    },
    {
     "data": {
      "text/plain": [
       "{'text': ' The birch can use lid on this smooth planks. Glue the sheet to the dark blue background. It is easy to tell the depth of a well. These days, the chicken leg is a rare dish. Rice is often served in round bowls. The juice of lemon makes fine punch. The box was thrown beside the pork chuck. The hogs were fed chopped corn and garbage. For our the steady work face does a large size and stockings is hard to sell.',\n",
       " 'chunks': [{'timestamp': (0.0, 4.0),\n",
       "   'text': ' The birch can use lid on this smooth planks.'},\n",
       "  {'timestamp': (4.0, 7.0),\n",
       "   'text': ' Glue the sheet to the dark blue background.'},\n",
       "  {'timestamp': (7.0, 10.0),\n",
       "   'text': ' It is easy to tell the depth of a well.'},\n",
       "  {'timestamp': (10.0, 14.0),\n",
       "   'text': ' These days, the chicken leg is a rare dish.'},\n",
       "  {'timestamp': (14.0, 17.0), 'text': ' Rice is often served in round bowls.'},\n",
       "  {'timestamp': (17.0, 20.0), 'text': ' The juice of lemon makes fine punch.'},\n",
       "  {'timestamp': (20.0, 23.0),\n",
       "   'text': ' The box was thrown beside the pork chuck.'},\n",
       "  {'timestamp': (23.0, 26.0),\n",
       "   'text': ' The hogs were fed chopped corn and garbage.'},\n",
       "  {'timestamp': (26.0, 0.0), 'text': ''},\n",
       "  {'timestamp': (7.0, None),\n",
       "   'text': ' For our the steady work face does a large size and stockings is hard to sell.'}]}"
      ]
     },
     "execution_count": 7,
     "metadata": {},
     "output_type": "execute_result"
    }
   ],
   "source": [
    "loaded_pipeline(\"../raw_data/test_audio.wav\", return_timestamps=True)"
   ]
  }
 ],
 "metadata": {
  "kernelspec": {
   "display_name": "pocketcoach",
   "language": "python",
   "name": "python3"
  },
  "language_info": {
   "codemirror_mode": {
    "name": "ipython",
    "version": 3
   },
   "file_extension": ".py",
   "mimetype": "text/x-python",
   "name": "python",
   "nbconvert_exporter": "python",
   "pygments_lexer": "ipython3",
   "version": "3.10.6"
  }
 },
 "nbformat": 4,
 "nbformat_minor": 5
}
